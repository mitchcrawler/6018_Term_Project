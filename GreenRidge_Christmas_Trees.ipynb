{
 "cells": [
  {
   "cell_type": "code",
   "execution_count": 7,
   "metadata": {},
   "outputs": [
    {
     "name": "stdout",
     "output_type": "stream",
     "text": [
      "<__main__.Person object at 0x7f64484cc438>\n"
     ]
    }
   ],
   "source": [
    "class Person(object):\n",
    "    def __init__(self, first_name, last_name):\n",
    "        self.__first_name = first_name\n",
    "        self.__last_name = last_name\n",
    "        def __str__(self):\n",
    "            tup=(str(self.first_name),str(self.last_name))\n",
    "            return ','.join(tup)\n",
    "\n",
    "class Employee(Person):\n",
    "    def __init__(self, hourly_rate, hours_worked):\n",
    "        Employee.__init__(self, hourly_rate, hours_worked)\n",
    "        self.__hourly_rate = hourly_rate\n",
    "        self.__hours_worked = hours_worked\n",
    "        \n",
    "        @property\n",
    "        def Employees_pay(self):\n",
    "            return self.__Employees_pay\n",
    "Test_person = Person(first_name = \"Bodie\", last_name = \"Wright\")\n",
    "print (Test_person)"
   ]
  },
  {
   "cell_type": "code",
   "execution_count": 17,
   "metadata": {},
   "outputs": [
    {
     "name": "stdout",
     "output_type": "stream",
     "text": [
      "FirstName: Bodie LastName: Wright\n"
     ]
    }
   ],
   "source": [
    "class Employee:\n",
    "\n",
    "    #initialize the attributes\n",
    "    def __init__(self, first_name = \"\", last_name = \"\"):\n",
    "        self.__first_name = first_name\n",
    "        self.__last_name = last_name\n",
    "\n",
    "    #set the attributes\n",
    "    def set_first_name(self, first_name):\n",
    "        self.__first_name = first_name\n",
    "\n",
    "    def set_last_name(self, last_name):\n",
    "        self.__last_name = last_name\n",
    "\n",
    "    #return the attributes\n",
    "    def get_first_name(self):\n",
    "        return self.__first_name\n",
    "\n",
    "    def get_last_name(self):\n",
    "        return self.__last_name\n",
    "    \n",
    "    #return the objects state as a string\n",
    "\n",
    "    def __str__(self):\n",
    "        return 'FirstName: ' + self.__first_name + \\\n",
    "               ' LastName: ' + self.__last_name\n",
    "print (Employee(first_name = \"Bodie\", last_name = \"Wright\"))"
   ]
  },
  {
   "cell_type": "code",
   "execution_count": null,
   "metadata": {
    "collapsed": true
   },
   "outputs": [],
   "source": []
  }
 ],
 "metadata": {
  "kernelspec": {
   "display_name": "Python 3",
   "language": "python",
   "name": "python3"
  },
  "language_info": {
   "codemirror_mode": {
    "name": "ipython",
    "version": 3
   },
   "file_extension": ".py",
   "mimetype": "text/x-python",
   "name": "python",
   "nbconvert_exporter": "python",
   "pygments_lexer": "ipython3",
   "version": "3.5.2"
  }
 },
 "nbformat": 4,
 "nbformat_minor": 2
}
