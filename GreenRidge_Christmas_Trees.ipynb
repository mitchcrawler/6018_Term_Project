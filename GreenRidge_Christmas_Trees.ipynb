{
 "cells": [
  {
   "cell_type": "code",
   "execution_count": 2,
   "metadata": {},
   "outputs": [
    {
     "name": "stdout",
     "output_type": "stream",
     "text": [
      "<__main__.Person object at 0x7f18907177b8>\n"
     ]
    }
   ],
   "source": [
    "class Person(object):\n",
    "    def __init__(self, first_name, last_name):\n",
    "        self.__first_name = first_name\n",
    "        self.__last_name = last_name\n",
    "        def __str__(self):\n",
    "            tup=(str(self.first_name),str(self.last_name))\n",
    "            return ','.join(tup)\n",
    "\n",
    "class Employee(Person):\n",
    "    def __init__(self, hourly_rate, hours_worked):\n",
    "        Employee.__init__(self, hourly_rate, hours_worked)\n",
    "        self.__hourly_rate = hourly_rate\n",
    "        self.__hours_worked = hours_worked\n",
    "        \n",
    "        @property\n",
    "        def Employees_pay(self):\n",
    "            return self.__Employees_pay\n",
    "Test_person = Person(first_name = \"Bodie\", last_name = \"Wright\")\n",
    "print (Test_person)"
   ]
  },
  {
   "cell_type": "code",
   "execution_count": 3,
   "metadata": {},
   "outputs": [
    {
     "name": "stdout",
     "output_type": "stream",
     "text": [
      "FirstName: Bodie LastName: Wright\n"
     ]
    }
   ],
   "source": [
    "class Employee:\n",
    "\n",
    "    #initialize the attributes\n",
    "    def __init__(self, first_name = \"\", last_name = \"\"):\n",
    "        self.__first_name = first_name\n",
    "        self.__last_name = last_name\n",
    "\n",
    "    #set the attributes\n",
    "    def set_first_name(self, first_name):\n",
    "        self.__first_name = first_name\n",
    "\n",
    "    def set_last_name(self, last_name):\n",
    "        self.__last_name = last_name\n",
    "\n",
    "    #return the attributes\n",
    "    def get_first_name(self):\n",
    "        return self.__first_name\n",
    "\n",
    "    def get_last_name(self):\n",
    "        return self.__last_name\n",
    "    \n",
    "    #return the objects state as a string\n",
    "\n",
    "    def __str__(self):\n",
    "        return 'FirstName: ' + self.__first_name + \\\n",
    "               ' LastName: ' + self.__last_name\n",
    "print (Employee(first_name = \"Bodie\", last_name = \"Wright\"))"
   ]
  },
  {
   "cell_type": "code",
   "execution_count": 6,
   "metadata": {},
   "outputs": [
    {
     "ename": "TypeError",
     "evalue": "Can't convert 'method' object to str implicitly",
     "output_type": "error",
     "traceback": [
      "\u001b[0;31m---------------------------------------------------------------------------\u001b[0m",
      "\u001b[0;31mTypeError\u001b[0m                                 Traceback (most recent call last)",
      "\u001b[0;32m<ipython-input-6-57bbaf93c3e6>\u001b[0m in \u001b[0;36m<module>\u001b[0;34m()\u001b[0m\n\u001b[1;32m     21\u001b[0m     \u001b[0;32mdef\u001b[0m \u001b[0m__str__\u001b[0m\u001b[0;34m(\u001b[0m\u001b[0mself\u001b[0m\u001b[0;34m)\u001b[0m\u001b[0;34m:\u001b[0m\u001b[0;34m\u001b[0m\u001b[0m\n\u001b[1;32m     22\u001b[0m         \u001b[0;32mreturn\u001b[0m \u001b[0;34m\"TotalPay: \"\u001b[0m \u001b[0;34m+\u001b[0m \u001b[0mself\u001b[0m\u001b[0;34m.\u001b[0m\u001b[0mcalculate_pay\u001b[0m\u001b[0;34m\u001b[0m\u001b[0m\n\u001b[0;32m---> 23\u001b[0;31m \u001b[0mprint\u001b[0m \u001b[0;34m(\u001b[0m\u001b[0mEmployee_pay\u001b[0m\u001b[0;34m(\u001b[0m\u001b[0;36m10\u001b[0m\u001b[0;34m,\u001b[0m \u001b[0;36m23\u001b[0m\u001b[0;34m)\u001b[0m\u001b[0;34m)\u001b[0m\u001b[0;34m\u001b[0m\u001b[0m\n\u001b[0m",
      "\u001b[0;32m<ipython-input-6-57bbaf93c3e6>\u001b[0m in \u001b[0;36m__str__\u001b[0;34m(self)\u001b[0m\n\u001b[1;32m     20\u001b[0m \u001b[0;34m\u001b[0m\u001b[0m\n\u001b[1;32m     21\u001b[0m     \u001b[0;32mdef\u001b[0m \u001b[0m__str__\u001b[0m\u001b[0;34m(\u001b[0m\u001b[0mself\u001b[0m\u001b[0;34m)\u001b[0m\u001b[0;34m:\u001b[0m\u001b[0;34m\u001b[0m\u001b[0m\n\u001b[0;32m---> 22\u001b[0;31m         \u001b[0;32mreturn\u001b[0m \u001b[0;34m\"TotalPay: \"\u001b[0m \u001b[0;34m+\u001b[0m \u001b[0mself\u001b[0m\u001b[0;34m.\u001b[0m\u001b[0mcalculate_pay\u001b[0m\u001b[0;34m\u001b[0m\u001b[0m\n\u001b[0m\u001b[1;32m     23\u001b[0m \u001b[0mprint\u001b[0m \u001b[0;34m(\u001b[0m\u001b[0mEmployee_pay\u001b[0m\u001b[0;34m(\u001b[0m\u001b[0;36m10\u001b[0m\u001b[0;34m,\u001b[0m \u001b[0;36m23\u001b[0m\u001b[0;34m)\u001b[0m\u001b[0;34m)\u001b[0m\u001b[0;34m\u001b[0m\u001b[0m\n",
      "\u001b[0;31mTypeError\u001b[0m: Can't convert 'method' object to str implicitly"
     ]
    }
   ],
   "source": [
    "class Employee_pay(Employee):\n",
    "    def __init__(self, hourly_rate, hours_worked):\n",
    "        self.__hourly_rate = hourly_rate\n",
    "        self.__hours_worked = hours_worked\n",
    "        \n",
    "    def set_hourly_rate(self, hourly_rate):\n",
    "        self.__hourly_rate = hourly_rate\n",
    "    \n",
    "    def set_hours_worked(self, hours_worked):\n",
    "        self.__hours_worked = hours_worked\n",
    "        \n",
    "    def get_hourly_rate(self):\n",
    "        return self.__hourly_rate\n",
    "    \n",
    "    def get_hours_worked(self):\n",
    "        return self.__hours_worked\n",
    "    \n",
    "    def calculate_pay(hourly_rate, hours_worked):\n",
    "        return hourly_rate * hours_worked\n",
    "    \n",
    "    def __str__(self):\n",
    "        return \"TotalPay: \" + self.calculate_pay\n",
    "print (Employee_pay(10, 23))"
   ]
  },
  {
   "cell_type": "code",
   "execution_count": null,
   "metadata": {
    "collapsed": true
   },
   "outputs": [],
   "source": []
  }
 ],
 "metadata": {
  "kernelspec": {
   "display_name": "Python 3",
   "language": "python",
   "name": "python3"
  }
 },
 "nbformat": 4,
 "nbformat_minor": 2
}
