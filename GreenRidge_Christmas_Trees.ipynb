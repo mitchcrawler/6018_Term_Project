{
 "cells": [
  {
   "cell_type": "code",
   "execution_count": 1,
   "metadata": {},
   "outputs": [
    {
     "name": "stdout",
     "output_type": "stream",
     "text": [
      "<__main__.Person object at 0x7f22d1d92390>\n",
      "<__main__.Person object at 0x7f22d1d92390>\n"
     ]
    }
   ],
   "source": [
    "class Person(object):\n",
    "    def __init__(self, first_name, last_name):\n",
    "        self.__first_name = first_name\n",
    "        self.__last_name = last_name\n",
    "        def __str__(self):\n",
    "            tup=(str(self.first_name),str(self.last_name))\n",
    "            return ','.join(tup)\n",
    "\n",
    "class Employee(Person):\n",
    "    def __init__(self, hourly_rate, hours_worked):\n",
    "        Employee.__init__(self, hourly_rate, hours_worked)\n",
    "        self.__hourly_rate = hourly_rate\n",
    "        self.__hours_worked = hours_worked\n",
    "        \n",
    "        @property\n",
    "        def Employees_pay(self):\n",
    "            return self.__Employees_pay\n",
    "Test_person = Person(first_name = \"Bodie\", last_name = \"Wright\")\n",
    "print (Test_person)"
   ]
  },
  {
   "cell_type": "code",
   "execution_count": 1,
   "metadata": {},
   "outputs": [
    {
     "name": "stdout",
     "output_type": "stream",
     "text": [
      "Fetching package metadata .............\n",
      "Solving package specifications: .\n",
      "\n",
      "# All requested packages already installed.\n",
      "# packages in environment at /opt/conda:\n",
      "#\n",
      "ipywidgets                7.0.5                    py35_0    conda-forge\n"
     ]
    }
   ],
   "source": [
    "!conda install ipywidgets -y"
   ]
  },
  {
   "cell_type": "code",
   "execution_count": 2,
   "metadata": {
    "collapsed": true
   },
   "outputs": [],
   "source": [
    "from ipywidgets import interact, interactive, fixed\n",
    "from IPython.display import clear_output, display, HTML"
   ]
  },
  {
   "cell_type": "code",
   "execution_count": 12,
   "metadata": {},
   "outputs": [
    {
     "name": "stdout",
     "output_type": "stream",
     "text": [
      "FirstName: Bodie LastName: Wright\n"
     ]
    }
   ],
   "source": [
    "#working one\n",
    "class Employee:\n",
    "\n",
    "    #initialize the attributes\n",
    "    def __init__(self, first_name = \"\", last_name = \"\"):\n",
    "        self.__first_name = first_name\n",
    "        self.__last_name = last_name\n",
    "\n",
    "    #set the attributes\n",
    "    def set_first_name(self, first_name):\n",
    "        self.__first_name = first_name\n",
    "\n",
    "    def set_last_name(self, last_name):\n",
    "        self.__last_name = last_name\n",
    "\n",
    "    #return the attributes\n",
    "    def get_first_name(self):\n",
    "        return self.__first_name\n",
    "\n",
    "    def get_last_name(self):\n",
    "        return self.__last_name\n",
    "    \n",
    "    #return the objects state as a string\n",
    "\n",
    "    def __str__(self):\n",
    "        return 'FirstName: ' + self.__first_name + \\\n",
    "               ' LastName: ' + self.__last_name\n",
    "print (Employee(first_name = \"Bodie\", last_name = \"Wright\"))"
   ]
  },
  {
   "cell_type": "code",
   "execution_count": null,
   "metadata": {
    "collapsed": true
   },
   "outputs": [],
   "source": [
    "class Employee_pay(Employee):\n",
    "    def __init__(self, hourly_rate, hours_worked):\n",
    "        self.__hourly_rate = hourly_rate\n",
    "        self.__hours_worked = hours_worked\n",
    "        \n",
    "    def set_hourly_rate(self, hourly_rate):\n",
    "        self.__hourly_rate = hourly_rate\n",
    "    \n",
    "    def set_hours_worked(self, hours_worked):\n",
    "        self.__hours_worked = hours_worked\n",
    "        \n",
    "    def get_hourly_rate(self):\n",
    "        return self.__hourly_rate\n",
    "    \n",
    "    def get_hours_worked(self):\n",
    "        return self.__hours_worked\n",
    "    \n",
    "    def calculate_pay(hourly_rate, hours_worked):\n",
    "        return hourly_rate * hours_worked\n",
    "    \n",
    "    def __str__(self):\n",
    "        return \"TotalPay: \" + self.calculate_pay\n",
    "print (Employee_pay(10, 23))"
   ]
  },
  {
   "cell_type": "code",
   "execution_count": 6,
   "metadata": {},
   "outputs": [
    {
     "name": "stdout",
     "output_type": "stream",
     "text": [
      "Enter employee's first name: Bodie\n",
      "Enter employee's last name: Wright\n",
      "Enter number of hours worked: 12\n",
      "Enter employee's hourly rate: 12\n",
      "0. Exit\n",
      "1. Calculate total pay\n",
      "Enter choice: 1\n",
      "Result:  144\n",
      "0. Exit\n",
      "1. Calculate total pay\n",
      "Enter choice: 0\n",
      "Exiting!\n",
      "\n"
     ]
    }
   ],
   "source": [
    "#working one\n",
    "class Employee_wages:\n",
    "    def __init__(self,hours_worked, hourly_rate):\n",
    "        self.hours_worked = hours_worked\n",
    "        self.hourly_rate = hourly_rate\n",
    "\n",
    "    def total_pay(self):\n",
    "        return self.hours_worked*self.hourly_rate\n",
    "\n",
    "first_name = input(\"Enter employee's first name: \")\n",
    "last_name = input(\"Enter employee's last name: \")\n",
    "hours_worked = int(input(\"Enter number of hours worked: \"))\n",
    "hourly_rate = int(input(\"Enter employee's hourly rate: \"))\n",
    "obj = Employee_wages(hours_worked, hourly_rate)\n",
    "choice=1\n",
    "while choice!=0:\n",
    "    print(\"0. Exit\")\n",
    "    print(\"1. Calculate total pay\")\n",
    "\n",
    "    choice=int(input(\"Enter choice: \"))\n",
    "    if choice==1:\n",
    "        print(\"Result: \",obj.total_pay())\n",
    "    elif choice==0:\n",
    "        print(\"Exiting!\")\n",
    "    else:\n",
    "        print(\"Invalid choice!!\")\n",
    " \n",
    " \n",
    "print()"
   ]
  },
  {
   "cell_type": "code",
   "execution_count": 13,
   "metadata": {},
   "outputs": [
    {
     "ename": "TypeError",
     "evalue": "type() takes 1 or 3 arguments",
     "output_type": "error",
     "traceback": [
      "\u001b[0;31m---------------------------------------------------------------------------\u001b[0m",
      "\u001b[0;31mTypeError\u001b[0m                                 Traceback (most recent call last)",
      "\u001b[0;32m<ipython-input-13-beede0112c67>\u001b[0m in \u001b[0;36m<module>\u001b[0;34m()\u001b[0m\n\u001b[1;32m      1\u001b[0m \u001b[0;34m@\u001b[0m\u001b[0minteract\u001b[0m \u001b[0;34m(\u001b[0m\u001b[0mhours_worked\u001b[0m \u001b[0;34m=\u001b[0m \u001b[0;34m(\u001b[0m\u001b[0;36m0\u001b[0m\u001b[0;34m,\u001b[0m \u001b[0;36m100\u001b[0m\u001b[0;34m)\u001b[0m\u001b[0;34m,\u001b[0m \u001b[0mhourly_rate\u001b[0m \u001b[0;34m=\u001b[0m \u001b[0;34m(\u001b[0m\u001b[0;36m5\u001b[0m\u001b[0;34m,\u001b[0m \u001b[0;36m10\u001b[0m\u001b[0;34m)\u001b[0m\u001b[0;34m)\u001b[0m\u001b[0;34m\u001b[0m\u001b[0m\n\u001b[0;32m----> 2\u001b[0;31m \u001b[0;32mclass\u001b[0m \u001b[0mEmployee_wages\u001b[0m\u001b[0;34m(\u001b[0m\u001b[0mhours_worked\u001b[0m \u001b[0;34m=\u001b[0m \u001b[0;36m0\u001b[0m\u001b[0;34m,\u001b[0m \u001b[0mhourly_rate\u001b[0m \u001b[0;34m=\u001b[0m \u001b[0;36m5\u001b[0m\u001b[0;34m)\u001b[0m\u001b[0;34m:\u001b[0m\u001b[0;34m\u001b[0m\u001b[0m\n\u001b[0m\u001b[1;32m      3\u001b[0m     \u001b[0;32mdef\u001b[0m \u001b[0m__init__\u001b[0m\u001b[0;34m(\u001b[0m\u001b[0mself\u001b[0m\u001b[0;34m,\u001b[0m\u001b[0mhours_worked\u001b[0m\u001b[0;34m,\u001b[0m \u001b[0mhourly_rate\u001b[0m\u001b[0;34m)\u001b[0m\u001b[0;34m:\u001b[0m\u001b[0;34m\u001b[0m\u001b[0m\n\u001b[1;32m      4\u001b[0m         \u001b[0mself\u001b[0m\u001b[0;34m.\u001b[0m\u001b[0mhours_worked\u001b[0m \u001b[0;34m=\u001b[0m \u001b[0mhours_worked\u001b[0m\u001b[0;34m\u001b[0m\u001b[0m\n\u001b[1;32m      5\u001b[0m         \u001b[0mself\u001b[0m\u001b[0;34m.\u001b[0m\u001b[0mhourly_rate\u001b[0m \u001b[0;34m=\u001b[0m \u001b[0mhourly_rate\u001b[0m\u001b[0;34m\u001b[0m\u001b[0m\n",
      "\u001b[0;31mTypeError\u001b[0m: type() takes 1 or 3 arguments"
     ]
    }
   ],
   "source": [
    "@interact (hours_worked = (0, 100), hourly_rate = (5, 10))\n",
    "class Employee_wages(hours_worked = 0, hourly_rate = 5):\n",
    "    def __init__(self,hours_worked, hourly_rate):\n",
    "        self.hours_worked = hours_worked\n",
    "        self.hourly_rate = hourly_rate\n",
    "\n",
    "    def total_pay(self):\n",
    "        return self.hours_worked*self.hourly_rate\n",
    "\n",
    "first_name = input(\"Enter employee's first name: \")\n",
    "last_name = input(\"Enter employee's last name: \")\n",
    "obj = Employee_wages(hours_worked, hourly_rate)\n",
    " \n",
    " \n",
    "print()"
   ]
  },
  {
   "cell_type": "code",
   "execution_count": 11,
   "metadata": {},
   "outputs": [
    {
     "data": {
      "text/html": [
       "<div>\n",
       "<table border=\"1\" class=\"dataframe\">\n",
       "  <thead>\n",
       "    <tr style=\"text-align: right;\">\n",
       "      <th></th>\n",
       "      <th>Item Name</th>\n",
       "      <th>Description</th>\n",
       "      <th>Category</th>\n",
       "      <th>Price</th>\n",
       "      <th>Tax - Sales Tax (6.75%)</th>\n",
       "    </tr>\n",
       "  </thead>\n",
       "  <tbody>\n",
       "    <tr>\n",
       "      <th>0</th>\n",
       "      <td>$1 Donation</td>\n",
       "      <td>$1.00 donation</td>\n",
       "      <td>Donation</td>\n",
       "      <td>1.00</td>\n",
       "      <td>N</td>\n",
       "    </tr>\n",
       "    <tr>\n",
       "      <th>1</th>\n",
       "      <td>$10 Donation</td>\n",
       "      <td>$10 Donation</td>\n",
       "      <td>Donation</td>\n",
       "      <td>10.00</td>\n",
       "      <td>N</td>\n",
       "    </tr>\n",
       "    <tr>\n",
       "      <th>2</th>\n",
       "      <td>$5 Donation</td>\n",
       "      <td>$5 Donation</td>\n",
       "      <td>Donation</td>\n",
       "      <td>5.00</td>\n",
       "      <td>N</td>\n",
       "    </tr>\n",
       "    <tr>\n",
       "      <th>3</th>\n",
       "      <td>10' Stand</td>\n",
       "      <td>10' Stand</td>\n",
       "      <td>Stands</td>\n",
       "      <td>variable</td>\n",
       "      <td>Y</td>\n",
       "    </tr>\n",
       "    <tr>\n",
       "      <th>4</th>\n",
       "      <td>28\" Jack Frost</td>\n",
       "      <td>28\" Jack Frost</td>\n",
       "      <td>Wreaths</td>\n",
       "      <td>27.00</td>\n",
       "      <td>Y</td>\n",
       "    </tr>\n",
       "    <tr>\n",
       "      <th>5</th>\n",
       "      <td>4 Foot</td>\n",
       "      <td>Flocking for 4 foot tree</td>\n",
       "      <td>Flocking</td>\n",
       "      <td>40.00</td>\n",
       "      <td>Y</td>\n",
       "    </tr>\n",
       "    <tr>\n",
       "      <th>6</th>\n",
       "      <td>5 Foot</td>\n",
       "      <td>Flocking for 5 foot tree</td>\n",
       "      <td>Flocking</td>\n",
       "      <td>50.00</td>\n",
       "      <td>Y</td>\n",
       "    </tr>\n",
       "    <tr>\n",
       "      <th>7</th>\n",
       "      <td>6 Foot</td>\n",
       "      <td>Flocking for 6 foot tree</td>\n",
       "      <td>Flocking</td>\n",
       "      <td>60.00</td>\n",
       "      <td>Y</td>\n",
       "    </tr>\n",
       "    <tr>\n",
       "      <th>8</th>\n",
       "      <td>6' Stand</td>\n",
       "      <td>6' Stand</td>\n",
       "      <td>Stands</td>\n",
       "      <td>variable</td>\n",
       "      <td>Y</td>\n",
       "    </tr>\n",
       "    <tr>\n",
       "      <th>9</th>\n",
       "      <td>7 Foot</td>\n",
       "      <td>Flocking for 7 foot tree</td>\n",
       "      <td>Flocking</td>\n",
       "      <td>70.00</td>\n",
       "      <td>Y</td>\n",
       "    </tr>\n",
       "  </tbody>\n",
       "</table>\n",
       "</div>"
      ],
      "text/plain": [
       "        Item Name                Description   Category     Price  \\\n",
       "0    $1 Donation             $1.00 donation    Donation      1.00   \n",
       "1   $10 Donation               $10 Donation    Donation     10.00   \n",
       "2    $5 Donation                $5 Donation    Donation      5.00   \n",
       "3      10' Stand                  10' Stand      Stands  variable   \n",
       "4  28\" Jack Frost             28\" Jack Frost    Wreaths     27.00   \n",
       "5          4 Foot   Flocking for 4 foot tree  Flocking      40.00   \n",
       "6          5 Foot  Flocking for 5 foot tree   Flocking      50.00   \n",
       "7          6 Foot  Flocking for 6 foot tree   Flocking      60.00   \n",
       "8        6' Stand                   6' Stand     Stands  variable   \n",
       "9          7 Foot  Flocking for 7 foot tree   Flocking      70.00   \n",
       "\n",
       "  Tax - Sales Tax (6.75%)  \n",
       "0                       N  \n",
       "1                       N  \n",
       "2                       N  \n",
       "3                       Y  \n",
       "4                       Y  \n",
       "5                       Y  \n",
       "6                       Y  \n",
       "7                       Y  \n",
       "8                       Y  \n",
       "9                       Y  "
      ]
     },
     "execution_count": 11,
     "metadata": {},
     "output_type": "execute_result"
    }
   ],
   "source": [
    "import pandas as pd\n",
    "Inventory_catalog = pd.read_csv(\n",
    "        \"catalog-2017-12-07-1957.csv\", header = 0, usecols = [\"Item Name\", \"Description\", \\\n",
    "                                                              \"Category\", \"Price\", \"Tax - Sales Tax (6.75%)\"])\n",
    "\n",
    "Inventory_catalog.head(10)"
   ]
  },
  {
   "cell_type": "code",
   "execution_count": null,
   "metadata": {
    "collapsed": true
   },
   "outputs": [],
   "source": []
  }
 ],
 "metadata": {
  "kernelspec": {
   "display_name": "Python 3",
   "language": "python",
   "name": "python3"
  },
  "language_info": {
   "codemirror_mode": {
    "name": "ipython",
    "version": 3
   },
   "file_extension": ".py",
   "mimetype": "text/x-python",
   "name": "python",
   "nbconvert_exporter": "python",
   "pygments_lexer": "ipython3",
   "version": "3.5.2"
  }
 },
 "nbformat": 4,
 "nbformat_minor": 2
}
